{
 "cells": [
  {
   "cell_type": "markdown",
   "id": "4db5ad57",
   "metadata": {},
   "source": [
    "# PSO Implementation"
   ]
  },
  {
   "cell_type": "code",
   "execution_count": 1,
   "id": "bbfa4e3c",
   "metadata": {},
   "outputs": [],
   "source": [
    "# Import necessary libraries\n",
    "from softpy.evolutionary.candidate import FloatVectorCandidate\n",
    "from typing import Callable\n",
    "from softpy.evolutionary.singlestate import MetaHeuristicsAlgorithm\n",
    "import numpy as np\n",
    "import random"
   ]
  },
  {
   "cell_type": "markdown",
   "id": "fc3595e7",
   "metadata": {},
   "source": [
    "Start by defining the class for the particle candidate itself."
   ]
  },
  {
   "cell_type": "code",
   "execution_count": null,
   "id": "8e2788cd",
   "metadata": {},
   "outputs": [],
   "source": [
    "class ParticleCandidate(FloatVectorCandidate):\n",
    "    \"\"\"\n",
    "    A candidate for particle swarm optimization (PSO) that represents a particle\n",
    "    in the swarm with position and velocity attributes.\n",
    "    \"\"\"\n",
    "    \n",
    "    def __init__(self, size: int, lower: np.ndarray, upper: np.ndarray, candidate: np.ndarray, velocity: np.ndarray, \n",
    "                 inertia: float, w_l: float, w_n: float, w_g: float):\n",
    "        # Call parent constructor\n",
    "        super().__init__(size, candidate, None, lower=lower[0], upper=upper[0], intermediate=False, mutate=None, recombine=None)\n",
    "        \n",
    "        # Must have weights sum to 1\n",
    "        if w_l + w_n + w_g != 1.0:\n",
    "            raise ValueError(\"w_l + w_n + w_g must equal 1.0\")\n",
    "        \n",
    "        # Initialize particle-specific attributes\n",
    "        self.size = size\n",
    "        self.lower = lower.astype(float)\n",
    "        self.upper = upper.astype(float)\n",
    "        self.candidate = candidate.astype(float)\n",
    "        self.velocity = velocity.astype(float)\n",
    "        self.inertia = inertia\n",
    "        self.w_l = w_l\n",
    "        self.w_n = w_n\n",
    "        self.w_g = w_g\n",
    "\n",
    "    @staticmethod\n",
    "    def generate(size: int, lower: np.ndarray, upper: np.ndarray, inertia: float, \n",
    "                 w_l: float, w_n: float, w_g: float):\n",
    "        # Generate a random candidate within the bounds  \n",
    "        candidate = np.random.uniform(lower, upper, size)\n",
    "        \n",
    "        # Generate velocity within the specified range\n",
    "        velocity_range = np.abs(upper - lower)\n",
    "        velocity = np.random.uniform(-velocity_range, velocity_range, size)\n",
    "        \n",
    "        # Create and return particle instance\n",
    "        return ParticleCandidate(size, lower, upper, candidate, velocity, inertia, w_l, w_n, w_g)\n",
    "    \n",
    "    def copy(self):\n",
    "        # Create a copy of this particle\n",
    "        # This is necessary so each particle can evolve independently\n",
    "        # Without it, all best pos would belong to a single particle\n",
    "        return ParticleCandidate(\n",
    "            self.size,\n",
    "            self.lower.copy(),\n",
    "            self.upper.copy(),\n",
    "            self.candidate.copy(),\n",
    "            self.velocity.copy(),\n",
    "            self.inertia,\n",
    "            self.w_l,\n",
    "            self.w_n,\n",
    "            self.w_g\n",
    "        )\n",
    "    \n",
    "    def mutate(self):\n",
    "        # Update candidate position by adding velocity\n",
    "        self.candidate += self.velocity\n",
    "    \n",
    "    def recombine(self, local_best, neighborhood_best, best):\n",
    "     # Update velocity according to PSO formula\n",
    "        r_l = random.uniform(0, 1)\n",
    "        r_n = random.uniform(0, 1)\n",
    "        r_g = random.uniform(0, 1)\n",
    "        \n",
    "        self.velocity = (\n",
    "            self.inertia * self.velocity\n",
    "            + r_l * self.w_l * (local_best.candidate - self.candidate)\n",
    "            + r_n * self.w_n * (neighborhood_best.candidate - self.candidate)\n",
    "            + r_g * self.w_g * (best.candidate - self.candidate)\n",
    "        )"
   ]
  },
  {
   "cell_type": "markdown",
   "id": "f41f9b73",
   "metadata": {},
   "source": [
    "Now let's define the other necessary class."
   ]
  },
  {
   "cell_type": "code",
   "execution_count": null,
   "id": "e7daf568",
   "metadata": {},
   "outputs": [],
   "source": [
    "class ParticleSwarmOptimizer(MetaHeuristicsAlgorithm):\n",
    "    ''' Represents the process updating particles in a swarm. '''\n",
    "    \n",
    "    def __init__(self, fitness_func, pop_size: int, n_neighbors: np.ndarray, \n",
    "                 lower: np.ndarray, upper: np.ndarray, inertia: float, \n",
    "                 w_l: float, w_n: float, w_g: float, **kwargs):\n",
    "\n",
    "        super().__init__(candidate_type=None, fitness_func=fitness_func, **kwargs)\n",
    "        \n",
    "        self.pop_size = pop_size\n",
    "        self.fitness_func = fitness_func\n",
    "        self.n_neighbors = n_neighbors\n",
    "        self.particles = []\n",
    "        \n",
    "        # Store PSO-specific parameters\n",
    "        self.lower = lower\n",
    "        self.upper = upper\n",
    "        self.inertia = inertia\n",
    "        self.w_l = w_l\n",
    "        self.w_n = w_n\n",
    "        self.w_g = w_g\n",
    "        \n",
    "        self.best = np.array([None] * pop_size)  # Array of ParticleCandidate instances for each particle's best position\n",
    "        self.fitness_best = np.full(pop_size, -1000.0, dtype=float)  # Array of best fitness values for each particle\n",
    "        self.global_best = None  # ParticleCandidate with best position found so far\n",
    "        self.global_fitness_best = -1000.0  # Best fitness value found so far\n",
    "    \n",
    "    def fit(self, n_iters):\n",
    "        # Create population\n",
    "        population = []\n",
    "        for _ in range(self.pop_size):\n",
    "            particle = ParticleCandidate.generate(\n",
    "                size=2,\n",
    "                lower=self.lower,\n",
    "                upper=self.upper,\n",
    "                inertia=self.inertia,\n",
    "                w_l=self.w_l,\n",
    "                w_n=self.w_n,\n",
    "                w_g=self.w_g\n",
    "            )\n",
    "            population.append(particle)\n",
    "        \n",
    "        self.particles = population\n",
    "        \n",
    "        for i in range(n_iters):\n",
    "            # Evaluate fitness and update bests\n",
    "            for j in range(self.pop_size):\n",
    "                candidate = population[j]\n",
    "                fitness = self.fitness_func(candidate)\n",
    "\n",
    "                # Update local best using the copy (in order not to point to the same object)\n",
    "                if fitness > self.fitness_best[j]:\n",
    "                    self.fitness_best[j] = fitness\n",
    "                    self.best[j] = candidate.copy()\n",
    "\n",
    "                # Update global best\n",
    "                if self.global_best is None or fitness > self.global_fitness_best:\n",
    "                    self.global_best = candidate.copy()\n",
    "                    self.global_fitness_best = fitness\n",
    "            \n",
    "            # Update velocities and positions for each particle\n",
    "            for j in range(self.pop_size):\n",
    "                if self.best[j] is None:\n",
    "                    continue\n",
    "                    \n",
    "                # Find neighborhood best\n",
    "                possible_neighbors = list(range(self.pop_size))\n",
    "                possible_neighbors.remove(j)\n",
    "                \n",
    "                n_neighbors_count = min(self.n_neighbors[j], len(possible_neighbors))\n",
    "                if n_neighbors_count > 0:\n",
    "                    neighbor_indices = np.random.choice(possible_neighbors, size=n_neighbors_count, replace=False)\n",
    "                    \n",
    "                    best_neighbor_idx = None\n",
    "                    best_neighbor_fitness = -1000.0\n",
    "                    \n",
    "                    for neighbor_idx in neighbor_indices:\n",
    "                        if self.best[neighbor_idx] is None:\n",
    "                            continue\n",
    "                        neighbor_fitness = self.fitness_best[neighbor_idx]\n",
    "                        if neighbor_fitness > best_neighbor_fitness:\n",
    "                            best_neighbor_fitness = neighbor_fitness\n",
    "                            best_neighbor_idx = neighbor_idx\n",
    "                    \n",
    "                    if best_neighbor_idx is not None and self.global_best is not None:\n",
    "                        neighborhood_best = self.best[best_neighbor_idx]\n",
    "                        population[j].recombine(self.best[j], neighborhood_best, self.global_best)\n",
    "                        population[j].mutate()\n",
    "        "
   ]
  },
  {
   "cell_type": "markdown",
   "id": "f2d565c5",
   "metadata": {},
   "source": [
    "# Try to apply this algorithm to a sample population"
   ]
  },
  {
   "cell_type": "markdown",
   "id": "f3eee1a1",
   "metadata": {},
   "source": [
    "Test out a 'treasure hunt' simulation, where I have defined the treasure position, while the PSO has to find it starting from a population of 10 individuals, each with a number of pre-defined neighbors and a 10 by 10 search space."
   ]
  },
  {
   "cell_type": "code",
   "execution_count": 4,
   "id": "ed413c5a",
   "metadata": {},
   "outputs": [
    {
     "name": "stdout",
     "output_type": "stream",
     "text": [
      "Found at [3.00, 7.00], 0.00 away.\n"
     ]
    }
   ],
   "source": [
    "def hunt(x_treasure=3, y_treasure=7, area=[[0,0], [10,10]], particles=10, iters=20):\n",
    "    \n",
    "    def fit(p): \n",
    "        # Standard distance function (negative because closer is better)\n",
    "        return -np.sqrt((p.candidate[0]-x_treasure)**2 + (p.candidate[1]-y_treasure)**2)\n",
    "    \n",
    "    pso = ParticleSwarmOptimizer(\n",
    "        fitness_func=fit, \n",
    "        pop_size=particles, \n",
    "        # Number of neighbors for each particle\n",
    "        n_neighbors=np.random.randint(2, 5, size=particles),\n",
    "        lower=np.array(area[0]), upper=np.array(area[1]),\n",
    "        inertia=0.5, \n",
    "        w_l=0.3, \n",
    "        w_n=0.3, \n",
    "        w_g=0.4\n",
    "    )\n",
    "    \n",
    "    # Run the PSO for 20 iterations\n",
    "    pso.fit(iters)\n",
    "    \n",
    "    # Once we fit the model, we can check the best position found\n",
    "    if pso.global_best:\n",
    "        # Get the best position found\n",
    "        # and calculate the distance to the treasure at [3, 7]\n",
    "        pos = pso.global_best.candidate\n",
    "        dist = np.sqrt((pos[0]-x_treasure)**2 + (pos[1]-y_treasure)**2)\n",
    "        print(f\"Found at [{pos[0]:.2f}, {pos[1]:.2f}], {dist:.2f} away.\")\n",
    "\n",
    "hunt() "
   ]
  },
  {
   "cell_type": "markdown",
   "id": "557598ea",
   "metadata": {},
   "source": [
    "If we try a larger search space, and don't increase the number of iterations, we will see that it would actually take more iterations to reach the treasure now that the area to explore is larger."
   ]
  },
  {
   "cell_type": "code",
   "execution_count": 5,
   "id": "ba817db1",
   "metadata": {},
   "outputs": [
    {
     "name": "stdout",
     "output_type": "stream",
     "text": [
      "Found at [4.95, 7.95], 0.07 away.\n"
     ]
    }
   ],
   "source": [
    "hunt(x_treasure=5, y_treasure=8, area=[[0,0], [15,15]], particles=15, iters=10)"
   ]
  },
  {
   "cell_type": "markdown",
   "id": "1edb96fd",
   "metadata": {},
   "source": [
    "That's why, if we increase our iterations to 20 we can see that the PSO is able to reach the treasure. Due to the fact that the neighbourhood is random, we might observe very little deviations from the treasure depending on the runs, especially if we decrease the iterations a little bit."
   ]
  },
  {
   "cell_type": "code",
   "execution_count": 6,
   "id": "90372b5f",
   "metadata": {},
   "outputs": [
    {
     "name": "stdout",
     "output_type": "stream",
     "text": [
      "Found at [5.00, 8.00], 0.00 away.\n"
     ]
    }
   ],
   "source": [
    "hunt(x_treasure=5, y_treasure=8, area=[[0,0], [15,15]], particles=15, iters=20)"
   ]
  }
 ],
 "metadata": {
  "kernelspec": {
   "display_name": "Python 3",
   "language": "python",
   "name": "python3"
  },
  "language_info": {
   "codemirror_mode": {
    "name": "ipython",
    "version": 3
   },
   "file_extension": ".py",
   "mimetype": "text/x-python",
   "name": "python",
   "nbconvert_exporter": "python",
   "pygments_lexer": "ipython3",
   "version": "3.13.0"
  }
 },
 "nbformat": 4,
 "nbformat_minor": 5
}
