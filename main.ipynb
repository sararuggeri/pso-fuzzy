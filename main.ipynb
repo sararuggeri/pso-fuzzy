{
 "cells": [
  {
   "cell_type": "markdown",
   "id": "4db5ad57",
   "metadata": {},
   "source": [
    "# PSO ALGORITHM"
   ]
  },
  {
   "cell_type": "code",
   "execution_count": 6,
   "id": "bbfa4e3c",
   "metadata": {},
   "outputs": [],
   "source": [
    "from softpy.evolutionary.candidate import FloatVectorCandidate\n",
    "from typing import Callable\n",
    "import numpy as np\n",
    "import random"
   ]
  },
  {
   "cell_type": "code",
   "execution_count": null,
   "id": "8e2788cd",
   "metadata": {},
   "outputs": [],
   "source": [
    "class ParticleCandidate(FloatVectorCandidate):\n",
    "    \"\"\"\n",
    "    A candidate for particle swarm optimization (PSO) that represents a particle\n",
    "    in the swarm with position and velocity attributes.\n",
    "    \"\"\"\n",
    "    \n",
    "    def __init__(self, size: int, lower: np.ndarray, upper: np.ndarray, candidate: np.ndarray, velocity: np.ndarray, \n",
    "                 inertia: float, w_l: float, w_n: float, w_g: float):\n",
    "        # Call parent constructor\n",
    "        super().__init__(size, candidate, None, lower=lower[0], upper=upper[0], intermediate=False, mutate=None, recombine=None)\n",
    "        \n",
    "        if w_l + w_n + w_g != 1.0:\n",
    "            raise ValueError(\"w_l + w_n + w_g must equal 1.0\")\n",
    "        \n",
    "        # Initialize particle-specific attributes\n",
    "        self.size = size\n",
    "        self.lower = lower.astype(float)\n",
    "        self.upper = upper.astype(float)\n",
    "        self.candidate = candidate.astype(float)\n",
    "        self.velocity = velocity.astype(float)\n",
    "        self.inertia = inertia\n",
    "        self.w_l = w_l\n",
    "        self.w_n = w_n\n",
    "        self.w_g = w_g\n",
    "\n",
    "    def generate(size: int, lower: np.ndarray, upper: np.ndarray, inertia: float, \n",
    "                 w_l: float, w_n: float, w_g: float):\n",
    "        # Generate a random candidate within the bounds  \n",
    "        candidate = np.random.uniform(lower, upper, size)\n",
    "        \n",
    "        # Generate velocity within the specified range\n",
    "        velocity_range = np.abs(upper - lower)\n",
    "        velocity = np.random.uniform(-velocity_range, velocity_range, size)\n",
    "        \n",
    "        # Create and return particle instance\n",
    "        return ParticleCandidate(size, lower, upper, candidate, velocity, inertia, w_l, w_n, w_g)\n",
    "    \n",
    "    def mutate(self):\n",
    "        # Update candidate position by adding velocity\n",
    "        self.candidate += self.velocity\n",
    "    \n",
    "    def recombine(self, local_best, neighborhood_best, best):\n",
    "        \"\"\"Update velocity according to PSO formula\"\"\"\n",
    "        r_l = random.uniform(0, 1)\n",
    "        r_n = random.uniform(0, 1)\n",
    "        r_g = random.uniform(0, 1)\n",
    "        \n",
    "        self.velocity = (\n",
    "            self.inertia * self.velocity\n",
    "            + r_l * self.w_l * (local_best.candidate - self.candidate)\n",
    "            + r_n * self.w_n * (neighborhood_best.candidate - self.candidate)\n",
    "            + r_g * self.w_g * (best.candidate - self.candidate)\n",
    "        )"
   ]
  },
  {
   "cell_type": "code",
   "execution_count": null,
   "id": "e7daf568",
   "metadata": {},
   "outputs": [],
   "source": [
    "class ParticleSwarmOptimizer(MetaHeuristicsAlgorithm):"
   ]
  }
 ],
 "metadata": {
  "kernelspec": {
   "display_name": "Python 3",
   "language": "python",
   "name": "python3"
  },
  "language_info": {
   "codemirror_mode": {
    "name": "ipython",
    "version": 3
   },
   "file_extension": ".py",
   "mimetype": "text/x-python",
   "name": "python",
   "nbconvert_exporter": "python",
   "pygments_lexer": "ipython3",
   "version": "3.13.0"
  }
 },
 "nbformat": 4,
 "nbformat_minor": 5
}
